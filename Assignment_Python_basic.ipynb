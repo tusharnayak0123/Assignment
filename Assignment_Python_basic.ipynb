{
  "nbformat": 4,
  "nbformat_minor": 0,
  "metadata": {
    "colab": {
      "provenance": []
    },
    "kernelspec": {
      "name": "python3",
      "display_name": "Python 3"
    },
    "language_info": {
      "name": "python"
    }
  },
  "cells": [
    {
      "cell_type": "markdown",
      "source": [
        "#Python Basic"
      ],
      "metadata": {
        "id": "1nCw-cDXs00v"
      }
    },
    {
      "cell_type": "markdown",
      "source": [
        "Q1. What is Python, and why is it popular?\n",
        "- Python is a programming language known for its simplicity, readability and versatility.\n",
        "- Python so popular and is widely used for various applications, including web devlopment, data analysis, AI, scientific computing and many more due to following  \n",
        "  - Python's syntax is designed to be easy to read and write.\n",
        "  - Python comes large libraries.\n",
        "  - Python is versatile and so on.\n"
      ],
      "metadata": {
        "id": "7ha4TENKtJd2"
      }
    },
    {
      "cell_type": "markdown",
      "source": [
        "Q2. What is an interpreter in Python?\n",
        "- Interpreter in python is a program that reads and ecxecutes code line by line"
      ],
      "metadata": {
        "id": "bcH7WS19vsLX"
      }
    },
    {
      "cell_type": "markdown",
      "source": [
        "Q3. What are pre-defined keywords in Python?\n",
        "- Keywords are predefined words that hold a special meaning and have specific purpose in python."
      ],
      "metadata": {
        "id": "QgP8HTwLwjXQ"
      }
    },
    {
      "cell_type": "markdown",
      "source": [
        "Q4. Can keywords be used as variable names?\n",
        "- No, If we use keyword as variable then it doesn't perform its own task.\n"
      ],
      "metadata": {
        "id": "JV0j_h3HxfnH"
      }
    },
    {
      "cell_type": "markdown",
      "source": [
        "Q5. What is mutability in Python?\n",
        "- Mutability is the ability to change the value of an object after it has been created."
      ],
      "metadata": {
        "id": "QSI3E7fUyA77"
      }
    },
    {
      "cell_type": "markdown",
      "source": [
        "Q6. Why are lists mutable, but tuples are immutable?\n",
        "- Lists are mutable in Python because they are designed to be flexible and dynamic, catering to a wide range of use cases that require modifying data during the program's execution. But in tuples we can't change any value of an object after being created."
      ],
      "metadata": {
        "id": "oPTkuQxUzOwE"
      }
    },
    {
      "cell_type": "markdown",
      "source": [
        "Q7. What is the difference between “==” and “is” operators in Python?\n",
        "- The \"==\" operator compares the values of two objects. It returns True if the values of the operands are equal, and False if they are not.\n",
        "- The identity operator checks if two variables point to the same object in memory. It returns True if the variables on either side of the operator point to the same object, and False if they do not."
      ],
      "metadata": {
        "id": "euj5_ul7Epd4"
      }
    },
    {
      "cell_type": "markdown",
      "source": [
        "Q8. What are logical operators in Python?\n",
        " - Python logical operators are used to combine conditional statements, allowing you to perform operations based on multiple conditions."
      ],
      "metadata": {
        "id": "Fpr0k185FFHI"
      }
    },
    {
      "cell_type": "markdown",
      "source": [
        "Q9. What is type casting in Python?\n",
        "- Type casting in Python is the process of converting one data type to another."
      ],
      "metadata": {
        "id": "469YlpI1IyYq"
      }
    },
    {
      "cell_type": "markdown",
      "source": [
        "Q10. What is the difference between implicit and explicit type casting?\n",
        "- The compiler or interpreter automatically converts one data type to another to perform an operation. This is often used to convert smaller data types to larger data types.\n",
        "- The programmer writes code to instruct the compiler or interpreter to make a specific conversion."
      ],
      "metadata": {
        "id": "_Eu0WnbqJAfX"
      }
    },
    {
      "cell_type": "markdown",
      "source": [
        "Q11. What is the purpose of conditional statements in Python?\n",
        "- The purpose of conditional statements in Pythonused to handle conditions in your program."
      ],
      "metadata": {
        "id": "qHdkcaJLNvQ0"
      }
    },
    {
      "cell_type": "markdown",
      "source": [
        "Q12.  How does the elif statement work?\n",
        "- The “elif” keyword in Python, stands for “else if”. It can be used in conditional statements to check for multiple conditions.\n"
      ],
      "metadata": {
        "id": "uqfgbcrBPd69"
      }
    },
    {
      "cell_type": "markdown",
      "source": [
        "Q13. What is the difference between for and while loops?\n",
        "- The difference between a for loop and a while loop is that a for loop is used when the number of iterations is known, while a while loop is used when the number of iterations is unknown."
      ],
      "metadata": {
        "id": "xjbANcOvPwJx"
      }
    },
    {
      "cell_type": "markdown",
      "source": [
        "Q14. Describe a scenario where a while loop is more suitable than a for loop.\n",
        "- A while loop is more suitable than a for loop when you don't know in advance how many times you need to iterate and the condition for continuing the loop depends on a dynamic state or event during the execution. A while loop allows you to keep repeating a block of code as long as a certain condition is true."
      ],
      "metadata": {
        "id": "j-4vp4GRQT55"
      }
    },
    {
      "cell_type": "markdown",
      "source": [
        "#Practical Questions"
      ],
      "metadata": {
        "id": "TwdiEqKrWEro"
      }
    },
    {
      "cell_type": "code",
      "source": [
        "#Q1. Write a Python program to print \"Hello, World!.\n",
        "\n",
        "print(\"Hello, World!\")"
      ],
      "metadata": {
        "colab": {
          "base_uri": "https://localhost:8080/"
        },
        "id": "lq7reTTKWG-l",
        "outputId": "09d0867e-5b1d-4d43-80c9-ad554b202ed0"
      },
      "execution_count": 1,
      "outputs": [
        {
          "output_type": "stream",
          "name": "stdout",
          "text": [
            "Hello, World!\n"
          ]
        }
      ]
    },
    {
      "cell_type": "code",
      "source": [
        "#Q2. Write a Python program that displays your name and age?\n",
        "\n",
        "name= input(\"Please enter your name\\n\")\n",
        "age= input(\"Please enter your age\\n\")\n",
        "\n",
        "print(\"My name is \", name + \" and I'm\", age + \" years old.\")"
      ],
      "metadata": {
        "colab": {
          "base_uri": "https://localhost:8080/"
        },
        "id": "Y7xojTjuWsDq",
        "outputId": "6708672f-67d5-46b6-8fc2-f6a38b7ee4fd"
      },
      "execution_count": 4,
      "outputs": [
        {
          "output_type": "stream",
          "name": "stdout",
          "text": [
            "Please enter your name\n",
            "Tushar\n",
            "Please enter your age\n",
            "23\n",
            "My name is  Tushar and I'm 23 years old.\n"
          ]
        }
      ]
    },
    {
      "cell_type": "code",
      "source": [
        "#Q3. Write code to print all the pre-defined keywords in Python using the keyword library.\n",
        "\n",
        "help('keywords')"
      ],
      "metadata": {
        "colab": {
          "base_uri": "https://localhost:8080/"
        },
        "id": "f9jKmICoYZGR",
        "outputId": "6360fca3-6573-4416-fcef-830ed4624891"
      },
      "execution_count": 5,
      "outputs": [
        {
          "output_type": "stream",
          "name": "stdout",
          "text": [
            "\n",
            "Here is a list of the Python keywords.  Enter any keyword to get more help.\n",
            "\n",
            "False               class               from                or\n",
            "None                continue            global              pass\n",
            "True                def                 if                  raise\n",
            "and                 del                 import              return\n",
            "as                  elif                in                  try\n",
            "assert              else                is                  while\n",
            "async               except              lambda              with\n",
            "await               finally             nonlocal            yield\n",
            "break               for                 not                 \n",
            "\n"
          ]
        }
      ]
    },
    {
      "cell_type": "code",
      "source": [
        "#Q4. Write a program that checks if a given word is a Python keyword.\n",
        "\n",
        "word=input(\"Enter the word that you want to check wheather is a keyword or not \\n \")\n",
        "\n",
        "if keyword.iskeyword(word):\n",
        "    print(f\"'{word}' is a Python keyword.\")\n",
        "else:\n",
        "    print(f\"'{word}' is not a Python keyword.\")"
      ],
      "metadata": {
        "colab": {
          "base_uri": "https://localhost:8080/"
        },
        "id": "TEsRdePVZdg6",
        "outputId": "5762d72e-7a82-41fa-880d-379de75dd9cf"
      },
      "execution_count": 12,
      "outputs": [
        {
          "output_type": "stream",
          "name": "stdout",
          "text": [
            "Enter the word that you want to check wheather is a keyword or not \n",
            " for\n",
            "'for' is a Python keyword.\n"
          ]
        }
      ]
    },
    {
      "cell_type": "code",
      "source": [
        "#Q5. Create a list and tuple in Python, and demonstrate how attempting to change an element works differently for each?\n",
        "\n",
        "list_1=[1,2,3,4,\"Tushar\", True]\n",
        "\n",
        "tuple_1=(1,2,3,4,5,6)\n",
        "\n",
        "#change of element in list\n",
        "\n",
        "list_1[2]=100\n",
        "\n",
        "print(\"New_list is \",list_1)\n",
        "\n",
        "#change the element in tuple\n",
        "\n",
        "tuple_1[3]=\"Elephant\"\n",
        "\n",
        "print(tuple_1) #Showing error because it is immutable"
      ],
      "metadata": {
        "colab": {
          "base_uri": "https://localhost:8080/",
          "height": 228
        },
        "id": "iFiFgk4cavDS",
        "outputId": "e4c49a01-98fe-4812-ae53-60ff57692f41"
      },
      "execution_count": 18,
      "outputs": [
        {
          "output_type": "stream",
          "name": "stdout",
          "text": [
            "New_list is  [1, 2, 100, 4, 'Tushar', True]\n"
          ]
        },
        {
          "output_type": "error",
          "ename": "TypeError",
          "evalue": "'tuple' object does not support item assignment",
          "traceback": [
            "\u001b[0;31m---------------------------------------------------------------------------\u001b[0m",
            "\u001b[0;31mTypeError\u001b[0m                                 Traceback (most recent call last)",
            "\u001b[0;32m<ipython-input-18-10223e7b1c71>\u001b[0m in \u001b[0;36m<cell line: 15>\u001b[0;34m()\u001b[0m\n\u001b[1;32m     13\u001b[0m \u001b[0;31m#change the element in tuple\u001b[0m\u001b[0;34m\u001b[0m\u001b[0;34m\u001b[0m\u001b[0m\n\u001b[1;32m     14\u001b[0m \u001b[0;34m\u001b[0m\u001b[0m\n\u001b[0;32m---> 15\u001b[0;31m \u001b[0mtuple_1\u001b[0m\u001b[0;34m[\u001b[0m\u001b[0;36m3\u001b[0m\u001b[0;34m]\u001b[0m\u001b[0;34m=\u001b[0m\u001b[0;34m\"Elephant\"\u001b[0m\u001b[0;34m\u001b[0m\u001b[0;34m\u001b[0m\u001b[0m\n\u001b[0m\u001b[1;32m     16\u001b[0m \u001b[0;34m\u001b[0m\u001b[0m\n\u001b[1;32m     17\u001b[0m \u001b[0mprint\u001b[0m\u001b[0;34m(\u001b[0m\u001b[0mtuple_1\u001b[0m\u001b[0;34m)\u001b[0m\u001b[0;34m\u001b[0m\u001b[0;34m\u001b[0m\u001b[0m\n",
            "\u001b[0;31mTypeError\u001b[0m: 'tuple' object does not support item assignment"
          ]
        }
      ]
    },
    {
      "cell_type": "code",
      "source": [
        "#Q6. Write a function to demonstrate the behavior of mutable and immutable arguments.\n",
        "\n",
        "list_1=[1,2,3,4,\"Tushar\", True]\n",
        "\n",
        "tuple_1=(1,2,3,4,5,6)\n",
        "\n",
        "#change of element in list\n",
        "\n",
        "list_1[2]=100\n",
        "\n",
        "print(\"New_list is \",list_1)\n",
        "\n",
        "#change the element in tuple\n",
        "\n",
        "tuple_1[3]=\"Elephant\"\n",
        "\n",
        "print(tuple_1) #Showing error because it is immutable\n",
        "\n",
        "\n"
      ],
      "metadata": {
        "id": "2YTYFBSufOnw"
      },
      "execution_count": 20,
      "outputs": []
    },
    {
      "cell_type": "code",
      "source": [
        "#Q7. Write a function to demonstrate the behavior of mutable and immutable arguments.\n",
        "list_1=[1,2,3,4,\"Tushar\", True]\n",
        "\n",
        "tuple_1=(1,2,3,4,5,6)\n",
        "\n",
        "#change of element in list\n",
        "\n",
        "list_1[2]=100\n",
        "\n",
        "print(\"New_list is \",list_1)\n",
        "\n",
        "#change the element in tuple\n",
        "\n",
        "tuple_1[3]=\"Elephant\"\n",
        "\n",
        "print(tuple_1) #Showing error because it is immutable"
      ],
      "metadata": {
        "id": "sU80WbY7rq4O"
      },
      "execution_count": null,
      "outputs": []
    },
    {
      "cell_type": "code",
      "source": [
        "#Q8.  Write a program to demonstrate the use of logical operators.\n",
        "\n",
        "\n",
        "# Example: Logical Operators (AND, OR, NOT) with generic variables\n",
        "a, b, c = True, False, True\n",
        "\n",
        "# AND: Both conditions must be True\n",
        "if a and c:\n",
        "    print(\"Both a and c are True (AND condition).\")\n",
        "\n",
        "# OR: At least one condition must be True\n",
        "if b or c:\n",
        "    print(\"Either b or c is True (OR condition).\")\n",
        "\n",
        "# NOT: Reverses the condition\n",
        "if not b:\n",
        "    print(\"b is False (NOT condition).\")"
      ],
      "metadata": {
        "colab": {
          "base_uri": "https://localhost:8080/"
        },
        "id": "I7QUvuaVr5n1",
        "outputId": "c7ee2863-a005-455c-b09e-432a846b11c0"
      },
      "execution_count": 21,
      "outputs": [
        {
          "output_type": "stream",
          "name": "stdout",
          "text": [
            "Both a and c are True (AND condition).\n",
            "Either b or c is True (OR condition).\n",
            "b is False (NOT condition).\n"
          ]
        }
      ]
    },
    {
      "cell_type": "code",
      "source": [
        "#Q9. Write a Python program to convert user input from string to integer, float, and boolean types.\n",
        "\n",
        "num= input(\"Please enter a number\\n\")\n",
        "\n",
        "print(num,type(num)) #type of num is str\n",
        "\n",
        "num_1=int(num)  #conversion of string into integer\n",
        "\n",
        "print(num_1,type(num_1))\n",
        "\n",
        "num_2=float(num) #conversion of string into integer\n",
        "\n",
        "print(num_2,type(num_2))\n",
        "\n",
        "num_3=bool(num) #conversion of string into integer\n",
        "\n",
        "print(num_3,type(num_3))\n"
      ],
      "metadata": {
        "colab": {
          "base_uri": "https://localhost:8080/"
        },
        "id": "sh7bDlsWs_wo",
        "outputId": "91e3b05d-7660-4754-d986-cd36f560d877"
      },
      "execution_count": 29,
      "outputs": [
        {
          "output_type": "stream",
          "name": "stdout",
          "text": [
            "Please enter a number\n",
            "3\n",
            "3 <class 'str'>\n",
            "3 <class 'int'>\n",
            "3.0 <class 'float'>\n",
            "True <class 'bool'>\n"
          ]
        }
      ]
    },
    {
      "cell_type": "code",
      "source": [
        "#Q10. Write code to demonstrate type casting with list elements.\n",
        "\n",
        "my_list=[1,2.0,3,4,\"Tushar\", True]\n",
        "\n",
        "my_list[1]=int(my_list[1])\n",
        "\n",
        "my_list[3]=float(my_list[3])\n",
        "\n",
        "my_list[5]=int(my_list[5])\n",
        "\n",
        "my_list[0]=str(my_list[0])\n",
        "\n",
        "print(\"After type casting my_list=\", my_list)"
      ],
      "metadata": {
        "colab": {
          "base_uri": "https://localhost:8080/"
        },
        "id": "SjEGunARviFu",
        "outputId": "afdbfc80-7dfb-45fe-ff34-d63a83ea40bf"
      },
      "execution_count": 32,
      "outputs": [
        {
          "output_type": "stream",
          "name": "stdout",
          "text": [
            "After type casting my_list= ['1', 2, 3, 4.0, 'Tushar', 1]\n"
          ]
        }
      ]
    },
    {
      "cell_type": "code",
      "source": [
        "#Q11. Write a program that checks if a number is positive, negative, or zero.\n",
        "\n",
        "num= input(\"Please enter a number \\n\")\n",
        "num=int(num)\n",
        "\n",
        "if num<0:\n",
        "  print(\"The number is negative\")\n",
        "elif num>0:\n",
        "  print(\"The number is positive\")\n",
        "else:\n",
        "  print(\"The number is zero\")"
      ],
      "metadata": {
        "colab": {
          "base_uri": "https://localhost:8080/"
        },
        "id": "iPSMohIYyeZZ",
        "outputId": "f4e4fdfc-e287-4ac9-d8bb-57a30d6d14ec"
      },
      "execution_count": 39,
      "outputs": [
        {
          "output_type": "stream",
          "name": "stdout",
          "text": [
            "Please enter a number \n",
            "-9\n",
            "The number is negative\n"
          ]
        }
      ]
    },
    {
      "cell_type": "code",
      "source": [
        "#Q12. Write a for loop to print numbers from 1 to 10.\n",
        "\n",
        "for i in range(0,10):\n",
        "  print(i+1)"
      ],
      "metadata": {
        "colab": {
          "base_uri": "https://localhost:8080/"
        },
        "id": "yBd-LT9I0ma5",
        "outputId": "1868e356-7913-43f3-d80e-93c46f7a9a8b"
      },
      "execution_count": 44,
      "outputs": [
        {
          "output_type": "stream",
          "name": "stdout",
          "text": [
            "1\n",
            "2\n",
            "3\n",
            "4\n",
            "5\n",
            "6\n",
            "7\n",
            "8\n",
            "9\n",
            "10\n"
          ]
        }
      ]
    },
    {
      "cell_type": "code",
      "source": [
        "#Q13. Write a Python program to find the sum of all even numbers between 1 and 50.\n",
        "\n",
        "sum=0\n",
        "for i in range(1,50,2):\n",
        "  i= i+1\n",
        "  #print(i,end= \" \")\n",
        "  sum=sum+i\n",
        "print(sum)\n",
        "\n",
        "\n",
        "\n"
      ],
      "metadata": {
        "colab": {
          "base_uri": "https://localhost:8080/"
        },
        "id": "CmGZSgIT69S3",
        "outputId": "6bd69705-0235-4a3e-a48a-e4939c942fc0"
      },
      "execution_count": 62,
      "outputs": [
        {
          "output_type": "stream",
          "name": "stdout",
          "text": [
            "650\n"
          ]
        }
      ]
    },
    {
      "cell_type": "code",
      "source": [
        "#Q14. Write a program to reverse a string using a while loop.\n",
        "\n",
        "name= str((input(\"Enter the name: \")))\n",
        "i = len(name) - 1\n",
        "\n",
        "while i >= 0:\n",
        "    print(name[i], end = '')\n",
        "    i = i - 1"
      ],
      "metadata": {
        "colab": {
          "base_uri": "https://localhost:8080/"
        },
        "id": "I9jWX6zm96iW",
        "outputId": "f5dc20f2-842c-4657-e4f3-592a6429eb2d"
      },
      "execution_count": 66,
      "outputs": [
        {
          "output_type": "stream",
          "name": "stdout",
          "text": [
            "Enter the name: ghjgjhgjf\n",
            "fjghjgjhg"
          ]
        }
      ]
    },
    {
      "cell_type": "code",
      "source": [
        "#Q15. Write a Python program to calculate the factorial of a number provided by the user using a while loop.\n",
        "\n",
        "num = int(input(\"Enter a number to calculate its factorial: \"))\n",
        "\n",
        "factorial = 1\n",
        "\n",
        "# Check if the number is negative\n",
        "if num < 0:\n",
        "    print(\"Factorial is not defined for negative numbers.\")\n",
        "else:\n",
        "    # Calculate the factorial using a while loop\n",
        "    while num > 1:\n",
        "        factorial *= num  # Multiply the current value of factorial by num\n",
        "        num -= 1  # Decrement num by 1\n",
        "\n",
        "    # Print the calculated factorial\n",
        "    print(\"The factorial is:\", factorial)"
      ],
      "metadata": {
        "colab": {
          "base_uri": "https://localhost:8080/"
        },
        "id": "gaRc1Aze_MGm",
        "outputId": "d2a24eb6-6f7c-4e86-e769-66f14ea890f3"
      },
      "execution_count": 71,
      "outputs": [
        {
          "output_type": "stream",
          "name": "stdout",
          "text": [
            "Enter a number to calculate its factorial: 6\n",
            "The factorial is: 720\n"
          ]
        }
      ]
    }
  ]
}